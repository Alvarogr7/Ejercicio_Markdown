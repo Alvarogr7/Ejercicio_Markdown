{
 "cells": [
  {
   "cell_type": "markdown",
   "metadata": {},
   "source": [
    ">**Lo más Importante**\n",
    ">* Matemáticas\n",
    ">* Programación\n",
    ">* SQL\n",
    ">* Python\n",
    ">\n",
    "> ![imagen](./img/python.png)\n",
    ">\n",
    ">Para ser programador hay que tener **iniciativa**. Si tienes dudas,   consulta la documentación. Hay una cantidad inmensa de información al respecto. Keep Calm and go for it!\n",
    ">\n",
    ">En esta pagina se aprende mucho de python: **[page with python course](https://www.kaggle.com/)**"
   ]
  },
  {
   "cell_type": "markdown",
   "metadata": {},
   "source": [
    "|Ramp Up|Data Analysis|Machine Learning|Data & Business|\n",
    "|:------|:------------|:---------------|:--------------|\n",
    "|Python|EDA|Supervised|Productivización|\n",
    "|Estadística|R|Non supervised|Storytelling|\n",
    "|SQL|Feat. Eng.|Deep Learning|API|\n",
    "\n",
    "$$\\sqrt{3x-1}+(1+x)^2$$"
   ]
  }
 ],
 "metadata": {
  "language_info": {
   "name": "python"
  },
  "orig_nbformat": 4
 },
 "nbformat": 4,
 "nbformat_minor": 2
}
